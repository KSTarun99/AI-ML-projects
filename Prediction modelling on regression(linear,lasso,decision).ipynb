{
 "cells": [
  {
   "cell_type": "code",
   "execution_count": 323,
   "id": "5ce16489",
   "metadata": {},
   "outputs": [],
   "source": [
    "#import dependencies\n",
    "import pandas as pd\n",
    "import numpy as np\n",
    "import matplotlib.pyplot as plt\n",
    "import seaborn as sns\n",
    "from sklearn.model_selection import train_test_split\n",
    "from sklearn.linear_model import LinearRegression\n",
    "from sklearn.linear_model import Lasso\n",
    "from sklearn import metrics\n",
    "# project 1 car price prediction using machine learning"
   ]
  },
  {
   "cell_type": "markdown",
   "id": "84b99723",
   "metadata": {},
   "source": [
    "#problem statement : we have to predict the predict the price of used cars, we have info about the cars, we do have data set with many features.\n",
    "# data set features :  1. car brand 2. year 3.sold price 4.present price 5. kms driven 6.fuel type 7. seller type 8. transmission type 9.owners\n",
    "# using these features in the data set, i will be training my ml algorithm to find patterns in the data set."
   ]
  },
  {
   "cell_type": "markdown",
   "id": "a4093af5",
   "metadata": {},
   "source": [
    "**work flow**<br>\n",
    "1. data collection.<br>\n",
    "2. preprocess data.<br>\n",
    "3. split your data into training data and testing data ( train test split), here we will train our model with training data and    evaluate our model with test data.<br>\n",
    "4. now, we can feed this to regression model<br> use linear and lasso and see or compare  which accuracy score or error           percentage and see which one is better.<br>\n",
    "5. here we are predicting one particular value. this is a regression problem.\n",
    "\n"
   ]
  },
  {
   "cell_type": "code",
   "execution_count": 324,
   "id": "a43153f8",
   "metadata": {},
   "outputs": [],
   "source": [
    "car_data = pd.read_csv(\"C:\\\\Users\\\\welcome\\\\Desktop\\\\ML Projects\\\\car price prediction\\\\car data.csv\")"
   ]
  },
  {
   "cell_type": "code",
   "execution_count": 325,
   "id": "31dfe3fe",
   "metadata": {},
   "outputs": [
    {
     "data": {
      "text/html": [
       "<div>\n",
       "<style scoped>\n",
       "    .dataframe tbody tr th:only-of-type {\n",
       "        vertical-align: middle;\n",
       "    }\n",
       "\n",
       "    .dataframe tbody tr th {\n",
       "        vertical-align: top;\n",
       "    }\n",
       "\n",
       "    .dataframe thead th {\n",
       "        text-align: right;\n",
       "    }\n",
       "</style>\n",
       "<table border=\"1\" class=\"dataframe\">\n",
       "  <thead>\n",
       "    <tr style=\"text-align: right;\">\n",
       "      <th></th>\n",
       "      <th>Car_Name</th>\n",
       "      <th>Year</th>\n",
       "      <th>Selling_Price</th>\n",
       "      <th>Present_Price</th>\n",
       "      <th>Kms_Driven</th>\n",
       "      <th>Fuel_Type</th>\n",
       "      <th>Seller_Type</th>\n",
       "      <th>Transmission</th>\n",
       "      <th>Owner</th>\n",
       "    </tr>\n",
       "  </thead>\n",
       "  <tbody>\n",
       "    <tr>\n",
       "      <th>0</th>\n",
       "      <td>ritz</td>\n",
       "      <td>2014</td>\n",
       "      <td>3.35</td>\n",
       "      <td>5.59</td>\n",
       "      <td>27000</td>\n",
       "      <td>Petrol</td>\n",
       "      <td>Dealer</td>\n",
       "      <td>Manual</td>\n",
       "      <td>0</td>\n",
       "    </tr>\n",
       "    <tr>\n",
       "      <th>1</th>\n",
       "      <td>sx4</td>\n",
       "      <td>2013</td>\n",
       "      <td>4.75</td>\n",
       "      <td>9.54</td>\n",
       "      <td>43000</td>\n",
       "      <td>Diesel</td>\n",
       "      <td>Dealer</td>\n",
       "      <td>Manual</td>\n",
       "      <td>0</td>\n",
       "    </tr>\n",
       "    <tr>\n",
       "      <th>2</th>\n",
       "      <td>ciaz</td>\n",
       "      <td>2017</td>\n",
       "      <td>7.25</td>\n",
       "      <td>9.85</td>\n",
       "      <td>6900</td>\n",
       "      <td>Petrol</td>\n",
       "      <td>Dealer</td>\n",
       "      <td>Manual</td>\n",
       "      <td>0</td>\n",
       "    </tr>\n",
       "    <tr>\n",
       "      <th>3</th>\n",
       "      <td>wagon r</td>\n",
       "      <td>2011</td>\n",
       "      <td>2.85</td>\n",
       "      <td>4.15</td>\n",
       "      <td>5200</td>\n",
       "      <td>Petrol</td>\n",
       "      <td>Dealer</td>\n",
       "      <td>Manual</td>\n",
       "      <td>0</td>\n",
       "    </tr>\n",
       "    <tr>\n",
       "      <th>4</th>\n",
       "      <td>swift</td>\n",
       "      <td>2014</td>\n",
       "      <td>4.60</td>\n",
       "      <td>6.87</td>\n",
       "      <td>42450</td>\n",
       "      <td>Diesel</td>\n",
       "      <td>Dealer</td>\n",
       "      <td>Manual</td>\n",
       "      <td>0</td>\n",
       "    </tr>\n",
       "  </tbody>\n",
       "</table>\n",
       "</div>"
      ],
      "text/plain": [
       "  Car_Name  Year  Selling_Price  Present_Price  Kms_Driven Fuel_Type  \\\n",
       "0     ritz  2014           3.35           5.59       27000    Petrol   \n",
       "1      sx4  2013           4.75           9.54       43000    Diesel   \n",
       "2     ciaz  2017           7.25           9.85        6900    Petrol   \n",
       "3  wagon r  2011           2.85           4.15        5200    Petrol   \n",
       "4    swift  2014           4.60           6.87       42450    Diesel   \n",
       "\n",
       "  Seller_Type Transmission  Owner  \n",
       "0      Dealer       Manual      0  \n",
       "1      Dealer       Manual      0  \n",
       "2      Dealer       Manual      0  \n",
       "3      Dealer       Manual      0  \n",
       "4      Dealer       Manual      0  "
      ]
     },
     "execution_count": 325,
     "metadata": {},
     "output_type": "execute_result"
    }
   ],
   "source": [
    "car_data.head()"
   ]
  },
  {
   "cell_type": "code",
   "execution_count": 326,
   "id": "65b4cb93",
   "metadata": {},
   "outputs": [
    {
     "data": {
      "text/plain": [
       "(301, 9)"
      ]
     },
     "execution_count": 326,
     "metadata": {},
     "output_type": "execute_result"
    }
   ],
   "source": [
    "#checking total data points or rows and columns in the entire data set\n",
    "car_data.shape"
   ]
  },
  {
   "cell_type": "code",
   "execution_count": 327,
   "id": "0deaa961",
   "metadata": {},
   "outputs": [],
   "source": [
    "# we can train our model with selling price and all other features of the car at first, once it learns from the data set, then we can give new info then model will predict.\n",
    "#getting info about data set"
   ]
  },
  {
   "cell_type": "code",
   "execution_count": 328,
   "id": "9a09c03b",
   "metadata": {},
   "outputs": [
    {
     "name": "stdout",
     "output_type": "stream",
     "text": [
      "<class 'pandas.core.frame.DataFrame'>\n",
      "RangeIndex: 301 entries, 0 to 300\n",
      "Data columns (total 9 columns):\n",
      " #   Column         Non-Null Count  Dtype  \n",
      "---  ------         --------------  -----  \n",
      " 0   Car_Name       301 non-null    object \n",
      " 1   Year           301 non-null    int64  \n",
      " 2   Selling_Price  301 non-null    float64\n",
      " 3   Present_Price  301 non-null    float64\n",
      " 4   Kms_Driven     301 non-null    int64  \n",
      " 5   Fuel_Type      301 non-null    object \n",
      " 6   Seller_Type    301 non-null    object \n",
      " 7   Transmission   301 non-null    object \n",
      " 8   Owner          301 non-null    int64  \n",
      "dtypes: float64(2), int64(3), object(4)\n",
      "memory usage: 21.3+ KB\n"
     ]
    }
   ],
   "source": [
    "car_data.info()\n",
    "#we dont have any misiing data"
   ]
  },
  {
   "cell_type": "code",
   "execution_count": 329,
   "id": "cf8feee0",
   "metadata": {},
   "outputs": [
    {
     "data": {
      "text/plain": [
       "Car_Name         0\n",
       "Year             0\n",
       "Selling_Price    0\n",
       "Present_Price    0\n",
       "Kms_Driven       0\n",
       "Fuel_Type        0\n",
       "Seller_Type      0\n",
       "Transmission     0\n",
       "Owner            0\n",
       "dtype: int64"
      ]
     },
     "execution_count": 329,
     "metadata": {},
     "output_type": "execute_result"
    }
   ],
   "source": [
    "#this funtion will tell us how many missing values we have.\n",
    "car_data.isnull().sum()"
   ]
  },
  {
   "cell_type": "code",
   "execution_count": 330,
   "id": "cc8071eb",
   "metadata": {},
   "outputs": [
    {
     "data": {
      "text/plain": [
       "Petrol    239\n",
       "Diesel     60\n",
       "CNG         2\n",
       "Name: Fuel_Type, dtype: int64"
      ]
     },
     "execution_count": 330,
     "metadata": {},
     "output_type": "execute_result"
    }
   ],
   "source": [
    "#lets check the distribution of categorical data. \n",
    "#we will see how these categories are distributed\n",
    "car_data.Fuel_Type.value_counts()"
   ]
  },
  {
   "cell_type": "code",
   "execution_count": 331,
   "id": "9f9d0e13",
   "metadata": {},
   "outputs": [
    {
     "data": {
      "image/png": "[encoded data removed]",
      "text/plain": [
       "<Figure size 432x432 with 1 Axes>"
      ]
     },
     "metadata": {},
     "output_type": "display_data"
    }
   ],
   "source": [
    "# Fuel_Type column\n",
    "plt.figure(figsize=(6,6))\n",
    "sns.countplot(x='Fuel_Type', data= car_data)\n",
    "plt.title('Fuel_Type_data')\n",
    "plt.show()"
   ]
  },
  {
   "cell_type": "code",
   "execution_count": 332,
   "id": "79e10c17",
   "metadata": {},
   "outputs": [
    {
     "data": {
      "text/plain": [
       "Dealer        195\n",
       "Individual    106\n",
       "Name: Seller_Type, dtype: int64"
      ]
     },
     "execution_count": 332,
     "metadata": {},
     "output_type": "execute_result"
    }
   ],
   "source": [
    "car_data.Seller_Type.value_counts()"
   ]
  },
  {
   "cell_type": "code",
   "execution_count": 333,
   "id": "c874331b",
   "metadata": {},
   "outputs": [
    {
     "data": {
      "text/plain": [
       "Manual       261\n",
       "Automatic     40\n",
       "Name: Transmission, dtype: int64"
      ]
     },
     "execution_count": 333,
     "metadata": {},
     "output_type": "execute_result"
    }
   ],
   "source": [
    "car_data.Transmission.value_counts()"
   ]
  },
  {
   "cell_type": "code",
   "execution_count": 334,
   "id": "9777d03d",
   "metadata": {},
   "outputs": [
    {
     "data": {
      "text/plain": [
       "0.60     8\n",
       "0.45     8\n",
       "4.50     7\n",
       "5.25     7\n",
       "4.75     6\n",
       "        ..\n",
       "0.51     1\n",
       "3.15     1\n",
       "11.45    1\n",
       "6.85     1\n",
       "20.75    1\n",
       "Name: Selling_Price, Length: 156, dtype: int64"
      ]
     },
     "execution_count": 334,
     "metadata": {},
     "output_type": "execute_result"
    }
   ],
   "source": [
    "car_data.Selling_Price.value_counts()"
   ]
  },
  {
   "cell_type": "code",
   "execution_count": 335,
   "id": "06e8905d",
   "metadata": {},
   "outputs": [
    {
     "data": {
      "image/png": "[encoded data removed]",
      "text/plain": [
       "<Figure size 432x432 with 1 Axes>"
      ]
     },
     "metadata": {},
     "output_type": "display_data"
    }
   ],
   "source": [
    "# distribution of age value\n",
    "sns.set()\n",
    "plt.figure(figsize=(6,6))\n",
    "sns.distplot(car_data['Selling_Price'])\n",
    "plt.title('Selling_Price Distribution')\n",
    "plt.show()"
   ]
  },
  {
   "cell_type": "code",
   "execution_count": 336,
   "id": "bffd894a",
   "metadata": {},
   "outputs": [],
   "source": [
    "#convert your text to numerical value by encoding the data\n",
    "#computers understand numbers rather than numbers\n",
    "#encoding the categorical data\n",
    "# we can replace each coloumn with replace function and mention the suitable values we want."
   ]
  },
  {
   "cell_type": "code",
   "execution_count": 337,
   "id": "c0163acf",
   "metadata": {},
   "outputs": [],
   "source": [
    "#encoding the categorical data of fuel type coloumn\n",
    "car_data.replace({\"Fuel_Type\":{\"Petrol\" :0,\"Diesel\" :1,\"CNG\" :2}},inplace = True)"
   ]
  },
  {
   "cell_type": "code",
   "execution_count": 338,
   "id": "448a2da3",
   "metadata": {},
   "outputs": [],
   "source": [
    "car_data.replace({\"Seller_Type\":{\"Dealer\" :0,\"Individual\" :1,}},inplace = True)"
   ]
  },
  {
   "cell_type": "code",
   "execution_count": 339,
   "id": "75ac74ae",
   "metadata": {},
   "outputs": [],
   "source": [
    "car_data.replace({\"Transmission\":{\"Manual\" :0,\"Automatic\" :1,}},inplace = True)"
   ]
  },
  {
   "cell_type": "code",
   "execution_count": 340,
   "id": "2c52a960",
   "metadata": {},
   "outputs": [
    {
     "data": {
      "text/html": [
       "<div>\n",
       "<style scoped>\n",
       "    .dataframe tbody tr th:only-of-type {\n",
       "        vertical-align: middle;\n",
       "    }\n",
       "\n",
       "    .dataframe tbody tr th {\n",
       "        vertical-align: top;\n",
       "    }\n",
       "\n",
       "    .dataframe thead th {\n",
       "        text-align: right;\n",
       "    }\n",
       "</style>\n",
       "<table border=\"1\" class=\"dataframe\">\n",
       "  <thead>\n",
       "    <tr style=\"text-align: right;\">\n",
       "      <th></th>\n",
       "      <th>Car_Name</th>\n",
       "      <th>Year</th>\n",
       "      <th>Selling_Price</th>\n",
       "      <th>Present_Price</th>\n",
       "      <th>Kms_Driven</th>\n",
       "      <th>Fuel_Type</th>\n",
       "      <th>Seller_Type</th>\n",
       "      <th>Transmission</th>\n",
       "      <th>Owner</th>\n",
       "    </tr>\n",
       "  </thead>\n",
       "  <tbody>\n",
       "    <tr>\n",
       "      <th>0</th>\n",
       "      <td>ritz</td>\n",
       "      <td>2014</td>\n",
       "      <td>3.35</td>\n",
       "      <td>5.59</td>\n",
       "      <td>27000</td>\n",
       "      <td>0</td>\n",
       "      <td>0</td>\n",
       "      <td>0</td>\n",
       "      <td>0</td>\n",
       "    </tr>\n",
       "    <tr>\n",
       "      <th>1</th>\n",
       "      <td>sx4</td>\n",
       "      <td>2013</td>\n",
       "      <td>4.75</td>\n",
       "      <td>9.54</td>\n",
       "      <td>43000</td>\n",
       "      <td>1</td>\n",
       "      <td>0</td>\n",
       "      <td>0</td>\n",
       "      <td>0</td>\n",
       "    </tr>\n",
       "    <tr>\n",
       "      <th>2</th>\n",
       "      <td>ciaz</td>\n",
       "      <td>2017</td>\n",
       "      <td>7.25</td>\n",
       "      <td>9.85</td>\n",
       "      <td>6900</td>\n",
       "      <td>0</td>\n",
       "      <td>0</td>\n",
       "      <td>0</td>\n",
       "      <td>0</td>\n",
       "    </tr>\n",
       "    <tr>\n",
       "      <th>3</th>\n",
       "      <td>wagon r</td>\n",
       "      <td>2011</td>\n",
       "      <td>2.85</td>\n",
       "      <td>4.15</td>\n",
       "      <td>5200</td>\n",
       "      <td>0</td>\n",
       "      <td>0</td>\n",
       "      <td>0</td>\n",
       "      <td>0</td>\n",
       "    </tr>\n",
       "    <tr>\n",
       "      <th>4</th>\n",
       "      <td>swift</td>\n",
       "      <td>2014</td>\n",
       "      <td>4.60</td>\n",
       "      <td>6.87</td>\n",
       "      <td>42450</td>\n",
       "      <td>1</td>\n",
       "      <td>0</td>\n",
       "      <td>0</td>\n",
       "      <td>0</td>\n",
       "    </tr>\n",
       "  </tbody>\n",
       "</table>\n",
       "</div>"
      ],
      "text/plain": [
       "  Car_Name  Year  Selling_Price  Present_Price  Kms_Driven  Fuel_Type  \\\n",
       "0     ritz  2014           3.35           5.59       27000          0   \n",
       "1      sx4  2013           4.75           9.54       43000          1   \n",
       "2     ciaz  2017           7.25           9.85        6900          0   \n",
       "3  wagon r  2011           2.85           4.15        5200          0   \n",
       "4    swift  2014           4.60           6.87       42450          1   \n",
       "\n",
       "   Seller_Type  Transmission  Owner  \n",
       "0            0             0      0  \n",
       "1            0             0      0  \n",
       "2            0             0      0  \n",
       "3            0             0      0  \n",
       "4            0             0      0  "
      ]
     },
     "execution_count": 340,
     "metadata": {},
     "output_type": "execute_result"
    }
   ],
   "source": [
    "car_data.head()"
   ]
  },
  {
   "cell_type": "markdown",
   "id": "60038ccd",
   "metadata": {},
   "source": [
    "**Splitting our data and target**"
   ]
  },
  {
   "cell_type": "code",
   "execution_count": 341,
   "id": "99190ae9",
   "metadata": {},
   "outputs": [],
   "source": [
    "# lets create our x and y variables\n",
    "# in x i will store, all the values that i want..\n",
    "# y is my target variable #here selling price is my target # also remove car name with selling price\n",
    "\n",
    "X=car_data.drop([\"Car_Name\",\"Selling_Price\"],axis=1)\n",
    "Y=car_data[\"Selling_Price\"]\n",
    "#this will succesfully seperate my data into target and other features"
   ]
  },
  {
   "cell_type": "code",
   "execution_count": 342,
   "id": "fe364547",
   "metadata": {},
   "outputs": [
    {
     "name": "stdout",
     "output_type": "stream",
     "text": [
      "     Year  Present_Price  Kms_Driven  Fuel_Type  Seller_Type  Transmission  \\\n",
      "0    2014           5.59       27000          0            0             0   \n",
      "1    2013           9.54       43000          1            0             0   \n",
      "2    2017           9.85        6900          0            0             0   \n",
      "3    2011           4.15        5200          0            0             0   \n",
      "4    2014           6.87       42450          1            0             0   \n",
      "..    ...            ...         ...        ...          ...           ...   \n",
      "296  2016          11.60       33988          1            0             0   \n",
      "297  2015           5.90       60000          0            0             0   \n",
      "298  2009          11.00       87934          0            0             0   \n",
      "299  2017          12.50        9000          1            0             0   \n",
      "300  2016           5.90        5464          0            0             0   \n",
      "\n",
      "     Owner  \n",
      "0        0  \n",
      "1        0  \n",
      "2        0  \n",
      "3        0  \n",
      "4        0  \n",
      "..     ...  \n",
      "296      0  \n",
      "297      0  \n",
      "298      0  \n",
      "299      0  \n",
      "300      0  \n",
      "\n",
      "[301 rows x 7 columns]\n"
     ]
    }
   ],
   "source": [
    "print(X)"
   ]
  },
  {
   "cell_type": "code",
   "execution_count": 343,
   "id": "96326c67",
   "metadata": {},
   "outputs": [
    {
     "name": "stdout",
     "output_type": "stream",
     "text": [
      "0       3.35\n",
      "1       4.75\n",
      "2       7.25\n",
      "3       2.85\n",
      "4       4.60\n",
      "       ...  \n",
      "296     9.50\n",
      "297     4.00\n",
      "298     3.35\n",
      "299    11.50\n",
      "300     5.30\n",
      "Name: Selling_Price, Length: 301, dtype: float64\n"
     ]
    }
   ],
   "source": [
    "print(Y)"
   ]
  },
  {
   "cell_type": "code",
   "execution_count": 344,
   "id": "fc21343b",
   "metadata": {},
   "outputs": [],
   "source": [
    "#splitting our data into training and test data.\n",
    "#here four variables, we have data and target seperately right, we have to separate data into training data and testing data\n",
    "#put all the training data in x train and the testing data in x test\n",
    "#then the labels or the target all the values of x train will be stored in y train and all the vales for x test will be stored in ytest\n",
    "X_train, X_test, Y_train, Y_test = train_test_split(X,Y, test_size = 0.1, random_state=2)\n",
    "#if randomn state is 3 or 4, it will be splitted in other kind"
   ]
  },
  {
   "cell_type": "markdown",
   "id": "09f0028b",
   "metadata": {},
   "source": [
    "Model training\n",
    "1.linear regression model"
   ]
  },
  {
   "cell_type": "code",
   "execution_count": 345,
   "id": "ef916455",
   "metadata": {},
   "outputs": [],
   "source": [
    "#loading the linear regression model\n",
    "linear_reg = LinearRegression()"
   ]
  },
  {
   "cell_type": "code",
   "execution_count": 346,
   "id": "5d61e32e",
   "metadata": {},
   "outputs": [
    {
     "data": {
      "text/plain": [
       "LinearRegression()"
      ]
     },
     "execution_count": 346,
     "metadata": {},
     "output_type": "execute_result"
    }
   ],
   "source": [
    "#we can fit our data to this model\n",
    "#we need to fit our model with x train and y train\n",
    "#fit function is used to train our model\n",
    "linear_reg.fit(X_train,Y_train)\n",
    "#this will train our model\n",
    "#linear reg is nothing but line y= mx+c, it is just normal linear function"
   ]
  },
  {
   "cell_type": "markdown",
   "id": "e625cac9",
   "metadata": {},
   "source": [
    "Model evaluation"
   ]
  },
  {
   "cell_type": "code",
   "execution_count": 347,
   "id": "6cf6e11e",
   "metadata": {},
   "outputs": [],
   "source": [
    "#model evaluation, first lets predict on training data\n",
    "# use function.predict\n",
    "training_data_prediction = linear_reg.predict(X_train)\n",
    "#compare predicted values with the original values, here original values are y train \n",
    "#lets compare and see how our model is performing"
   ]
  },
  {
   "cell_type": "code",
   "execution_count": 348,
   "id": "19b99a17",
   "metadata": {},
   "outputs": [],
   "source": [
    "#for regression we can use many metrics as r squared error, mean squared error\n",
    "\n",
    "# R squared error\n",
    "# here it will compare original(y train) with predicticed(training_data_prediction )\n",
    "error_score = metrics.r2_score(Y_train,training_data_prediction)"
   ]
  },
  {
   "cell_type": "code",
   "execution_count": 349,
   "id": "61f190d1",
   "metadata": {},
   "outputs": [
    {
     "data": {
      "text/plain": [
       "0.8799451660493701"
      ]
     },
     "execution_count": 349,
     "metadata": {},
     "output_type": "execute_result"
    }
   ],
   "source": [
    "error_score #here it is good\n",
    "# error score of rsqured  error depends on magnitude of the value we are using"
   ]
  },
  {
   "cell_type": "markdown",
   "id": "97174b23",
   "metadata": {},
   "source": [
    "Visualize the actual prices and Predicted prices"
   ]
  },
  {
   "cell_type": "code",
   "execution_count": 350,
   "id": "82652b14",
   "metadata": {},
   "outputs": [
    {
     "data": {
      "image/png": "[encoded data removed]",
      "text/plain": [
       "<Figure size 432x288 with 1 Axes>"
      ]
     },
     "metadata": {},
     "output_type": "display_data"
    }
   ],
   "source": [
    "#Visualize the actual prices and Predicted prices\n",
    "#plot the values predicted and original values, this will tell us how close the values are...and these values should be as close as possible\n",
    "plt.scatter(Y_train,training_data_prediction)\n",
    "plt.xlabel(\"Actual Price\")\n",
    "plt.ylabel(\"Predicted Price\")\n",
    "plt.title(\" Actual Prices vs Predicted Prices\")\n",
    "plt.show()\n",
    "#as we can see, there is not much gap between values here, values predicted values are very close to original values.\n"
   ]
  },
  {
   "cell_type": "markdown",
   "id": "575422a1",
   "metadata": {},
   "source": [
    "Lets test our data with test data"
   ]
  },
  {
   "cell_type": "code",
   "execution_count": 351,
   "id": "c941eaab",
   "metadata": {},
   "outputs": [],
   "source": [
    "#previously we have predicted for training data, so now lets predict for the test data..\n",
    "#model evaluation, first lets predict on testing data\n",
    "# use function.predict\n",
    "test_data_prediction = linear_reg.predict(X_test)\n",
    "#compare predicted values with the original values, here original values are y test\n",
    "#lets compare and see how our model is performing"
   ]
  },
  {
   "cell_type": "code",
   "execution_count": 352,
   "id": "3976d03b",
   "metadata": {},
   "outputs": [],
   "source": [
    "#let us also find r squared error\n",
    "#for regression we can use many metrics as r squared error, mean squared error\n",
    "\n",
    "# R squared error\n",
    "# here it will compare original(y test) with predicticed(training_data_prediction )\n",
    "error_scor = metrics.r2_score(Y_test,test_data_prediction)"
   ]
  },
  {
   "cell_type": "code",
   "execution_count": 353,
   "id": "cbde9b86",
   "metadata": {},
   "outputs": [
    {
     "data": {
      "text/plain": [
       "0.836576671502687"
      ]
     },
     "execution_count": 353,
     "metadata": {},
     "output_type": "execute_result"
    }
   ],
   "source": [
    "error_scor\n",
    "#it is good now"
   ]
  },
  {
   "cell_type": "code",
   "execution_count": 354,
   "id": "b892b68c",
   "metadata": {},
   "outputs": [
    {
     "data": {
      "image/png": "[encoded data removed]",
      "text/plain": [
       "<Figure size 432x288 with 1 Axes>"
      ]
     },
     "metadata": {},
     "output_type": "display_data"
    }
   ],
   "source": [
    "#lets plot the graph for test data prediction\n",
    "#Visualize the actual prices and Predicted prices\n",
    "#plot the values predicted and original values, this will tell us how close the values are...and these values should be as close as possible\n",
    "plt.scatter(Y_test,test_data_prediction)\n",
    "plt.xlabel(\"Actual Price\")\n",
    "plt.ylabel(\"Predicted Price\")\n",
    "plt.title(\" Actual Prices vs Predicted Prices\")\n",
    "plt.show()\n",
    "#as we can see, they lie in the same line, there is no much difference or distsnce between them so if you have more values intraining and testing data we can have great predictions\n"
   ]
  },
  {
   "cell_type": "code",
   "execution_count": 357,
   "id": "fa03fdf4",
   "metadata": {},
   "outputs": [
    {
     "name": "stdout",
     "output_type": "stream",
     "text": [
      "[7.04992171]\n",
      "The price for ertiga is  7.049921707899216\n"
     ]
    }
   ],
   "source": [
    "#ertiga,2016,7.75,10.79,43000,Diesel,Dealer,Manual,0\n",
    "input_data1 = (2016,10.79,43000,1,0,0,0)\n",
    "# here it in tupple data type, so change it to numpy array\n",
    "# changing input_data to a numpy array, becoz it is easy to do some processing on arrays rather than tupple..\n",
    "numpy_array = np.asarray(input_data1)\n",
    "\n",
    "# reshape the array,if we dont mention reshape here, the model doesnt know that we are predicting one data point particularly\n",
    "data_reshaped1 = input_data_as_numpy_array.reshape(1,-1)\n",
    "#prediction will give me the selling price for ertiga..\n",
    "prediction1 =  lasso_reg.predict(data_reshaped1)\n",
    "print(prediction1)\n",
    "\n",
    "print('The price for ertiga is ', prediction1[0])"
   ]
  },
  {
   "cell_type": "markdown",
   "id": "40c9314d",
   "metadata": {},
   "source": [
    "lets use lasso regression and see which one is better, generally lasso performs better in most of the cases. so, linear performs well on which are directly correlated or positively correlated ( when one variable increase and other one also increase)"
   ]
  },
  {
   "cell_type": "markdown",
   "id": "5bc400cb",
   "metadata": {},
   "source": [
    "Lasso Regression"
   ]
  },
  {
   "cell_type": "code",
   "execution_count": 358,
   "id": "49338a4c",
   "metadata": {},
   "outputs": [
    {
     "data": {
      "text/plain": [
       "Lasso()"
      ]
     },
     "execution_count": 358,
     "metadata": {},
     "output_type": "execute_result"
    }
   ],
   "source": [
    "#loading the linear regression model\n",
    "lasso_reg = Lasso()\n",
    "\n",
    "#we can fit our data to this model\n",
    "#we need to fit our model with x train and y train\n",
    "#fit function is used to train our model\n",
    "lasso_reg.fit(X_train,Y_train)\n",
    "#this will train our model\n",
    "\n"
   ]
  },
  {
   "cell_type": "code",
   "execution_count": 394,
   "id": "cbb651a4",
   "metadata": {},
   "outputs": [],
   "source": [
    "training_data_prediction2 = lasso_reg.predict(X_train)\n",
    "#compare predicted values with the original values, here original values are y train \n",
    "#lets compare and see how our model is performing\n",
    "#for regression we can use many metrics as r squared error, mean squared error\n",
    "\n",
    "\n"
   ]
  },
  {
   "cell_type": "code",
   "execution_count": 396,
   "id": "2b5fc109",
   "metadata": {},
   "outputs": [],
   "source": [
    "# R squared error\n",
    "# here it will compare original(y train) with predicticed(training_data_prediction )\n",
    "error_score = metrics.r2_score(Y_train,training_data_prediction)\n",
    "\n"
   ]
  },
  {
   "cell_type": "code",
   "execution_count": 361,
   "id": "de27fd83",
   "metadata": {},
   "outputs": [
    {
     "data": {
      "text/plain": [
       "0.8427856123435794"
      ]
     },
     "execution_count": 361,
     "metadata": {},
     "output_type": "execute_result"
    }
   ],
   "source": [
    "error_score"
   ]
  },
  {
   "cell_type": "code",
   "execution_count": 362,
   "id": "d54ff4fe",
   "metadata": {},
   "outputs": [
    {
     "data": {
      "image/png": "[encoded data removed]",
      "text/plain": [
       "<Figure size 432x288 with 1 Axes>"
      ]
     },
     "metadata": {},
     "output_type": "display_data"
    }
   ],
   "source": [
    "#Visualize the actual prices and Predicted prices\n",
    "#plot the values predicted and original values, this will tell us how close the values are...and these values should be as close as possible\n",
    "plt.scatter(Y_train,training_data_prediction)\n",
    "plt.xlabel(\"Actual Price\")\n",
    "plt.ylabel(\"Predicted Price\")\n",
    "plt.title(\" Actual Prices vs Predicted Prices\")\n",
    "plt.show()\n",
    "\n",
    "\n"
   ]
  },
  {
   "cell_type": "code",
   "execution_count": 363,
   "id": "19f9ac2c",
   "metadata": {},
   "outputs": [],
   "source": [
    "#previously we have predicted for training data, so now lets predict for the test data..\n",
    "#model evaluation, first lets predict on testing data\n",
    "# use function.predict\n",
    "test_data_prediction = lasso_reg.predict(X_test)\n",
    "#compare predicted values with the original values, here original values are y test\n",
    "#lets compare and see how our model is performing\n",
    "#let us also find r squared error\n",
    "#for regression we can use many metrics as r squared error, mean squared error\n",
    "\n"
   ]
  },
  {
   "cell_type": "code",
   "execution_count": 364,
   "id": "db20dd51",
   "metadata": {},
   "outputs": [
    {
     "data": {
      "text/plain": [
       "0.8709167941173195"
      ]
     },
     "execution_count": 364,
     "metadata": {},
     "output_type": "execute_result"
    }
   ],
   "source": [
    "# R squared error\n",
    "# here it will compare original(y test) with predicticed(training_data_prediction )\n",
    "error_scor = metrics.r2_score(Y_test,test_data_prediction)\n",
    "\n",
    "error_scor\n",
    "\n"
   ]
  },
  {
   "cell_type": "code",
   "execution_count": 365,
   "id": "d6b3e06a",
   "metadata": {},
   "outputs": [
    {
     "data": {
      "image/png": "[encoded data removed]",
      "text/plain": [
       "<Figure size 432x288 with 1 Axes>"
      ]
     },
     "metadata": {},
     "output_type": "display_data"
    }
   ],
   "source": [
    "#lets plot the graph for test data prediction\n",
    "#Visualize the actual prices and Predicted prices\n",
    "#plot the values predicted and original values, this will tell us how close the values are...and these values should be as close as possible\n",
    "plt.scatter(Y_test,test_data_prediction)\n",
    "plt.xlabel(\"Actual Price\")\n",
    "plt.ylabel(\"Predicted Price\")\n",
    "plt.title(\" Actual Prices vs Predicted Prices\")\n",
    "plt.show()"
   ]
  },
  {
   "cell_type": "code",
   "execution_count": 366,
   "id": "550524df",
   "metadata": {},
   "outputs": [
    {
     "name": "stdout",
     "output_type": "stream",
     "text": [
      "[7.04992171]\n",
      "The price for ertiga is  7.049921707899216\n"
     ]
    }
   ],
   "source": [
    "#ertiga,2016,7.75,10.79,43000,Diesel,Dealer,Manual,0\n",
    "input_data = (2016,10.79,43000,1,0,0,0)\n",
    "# here it in tupple data type, so change it to numpy array\n",
    "# changing input_data to a numpy array, becoz it is easy to do some processing on arrays rather than tupple..\n",
    "data_as_numpy_array = np.asarray(input_data)\n",
    "\n",
    "# reshape the array,if we dont mention reshape here, the model doesnt know that we are predicting one data point particularly\n",
    "data_reshaped = input_data_as_numpy_array.reshape(1,-1)\n",
    "#prediction will give me the selling price for ertiga..\n",
    "prediction =  lasso_reg.predict(data_reshaped)\n",
    "print(prediction)\n",
    "\n",
    "print('The price for ertiga is ', prediction[0])"
   ]
  },
  {
   "cell_type": "markdown",
   "id": "20987c7f",
   "metadata": {},
   "source": [
    "DECISION TREE"
   ]
  },
  {
   "cell_type": "code",
   "execution_count": 367,
   "id": "7c71c1e9",
   "metadata": {},
   "outputs": [],
   "source": [
    "# Supress Warnings\n",
    "\n",
    "import warnings\n",
    "warnings.filterwarnings('ignore')"
   ]
  },
  {
   "cell_type": "code",
   "execution_count": 368,
   "id": "fcca5334",
   "metadata": {},
   "outputs": [],
   "source": [
    "# Importing required packages for visualization\n",
    "from IPython.display import Image  \n",
    "from six import StringIO\n",
    "from sklearn.tree import export_graphviz\n",
    "import pydotplus, graphviz"
   ]
  },
  {
   "cell_type": "code",
   "execution_count": 369,
   "id": "08a8ee6f",
   "metadata": {},
   "outputs": [
    {
     "name": "stdout",
     "output_type": "stream",
     "text": [
      "Requirement already satisfied: six in c:\\users\\welcome\\anaconda3\\lib\\site-packages (1.15.0)\n"
     ]
    }
   ],
   "source": [
    "!pip install six"
   ]
  },
  {
   "cell_type": "code",
   "execution_count": 370,
   "id": "a8e5fb35",
   "metadata": {},
   "outputs": [],
   "source": [
    "from sklearn.tree import DecisionTreeRegressor"
   ]
  },
  {
   "cell_type": "code",
   "execution_count": 371,
   "id": "cca70211",
   "metadata": {},
   "outputs": [],
   "source": [
    "#instantiating my model"
   ]
  },
  {
   "cell_type": "code",
   "execution_count": 372,
   "id": "37e10c35",
   "metadata": {},
   "outputs": [],
   "source": [
    "dt = DecisionTreeRegressor(random_state=42, max_depth=4, min_samples_leaf=10)"
   ]
  },
  {
   "cell_type": "code",
   "execution_count": 373,
   "id": "83ce76d8",
   "metadata": {},
   "outputs": [],
   "source": [
    "new_car_data = car_data.drop('Car_Name', axis = 1)"
   ]
  },
  {
   "cell_type": "code",
   "execution_count": 374,
   "id": "56f18aef",
   "metadata": {},
   "outputs": [],
   "source": [
    "np.random.seed(0)\n",
    "df_train, df_test = train_test_split(new_car_data , train_size=0.7, random_state=100)"
   ]
  },
  {
   "cell_type": "code",
   "execution_count": 375,
   "id": "52cb9358",
   "metadata": {},
   "outputs": [
    {
     "data": {
      "text/plain": [
       "((210, 8), (91, 8))"
      ]
     },
     "execution_count": 375,
     "metadata": {},
     "output_type": "execute_result"
    }
   ],
   "source": [
    "df_train.shape, df_test.shape"
   ]
  },
  {
   "cell_type": "code",
   "execution_count": 376,
   "id": "8c91de65",
   "metadata": {},
   "outputs": [
    {
     "data": {
      "text/html": [
       "<div>\n",
       "<style scoped>\n",
       "    .dataframe tbody tr th:only-of-type {\n",
       "        vertical-align: middle;\n",
       "    }\n",
       "\n",
       "    .dataframe tbody tr th {\n",
       "        vertical-align: top;\n",
       "    }\n",
       "\n",
       "    .dataframe thead th {\n",
       "        text-align: right;\n",
       "    }\n",
       "</style>\n",
       "<table border=\"1\" class=\"dataframe\">\n",
       "  <thead>\n",
       "    <tr style=\"text-align: right;\">\n",
       "      <th></th>\n",
       "      <th>Year</th>\n",
       "      <th>Selling_Price</th>\n",
       "      <th>Present_Price</th>\n",
       "      <th>Kms_Driven</th>\n",
       "      <th>Fuel_Type</th>\n",
       "      <th>Seller_Type</th>\n",
       "      <th>Transmission</th>\n",
       "      <th>Owner</th>\n",
       "    </tr>\n",
       "  </thead>\n",
       "  <tbody>\n",
       "    <tr>\n",
       "      <th>199</th>\n",
       "      <td>2007</td>\n",
       "      <td>0.12</td>\n",
       "      <td>0.58</td>\n",
       "      <td>53000</td>\n",
       "      <td>0</td>\n",
       "      <td>1</td>\n",
       "      <td>0</td>\n",
       "      <td>0</td>\n",
       "    </tr>\n",
       "    <tr>\n",
       "      <th>201</th>\n",
       "      <td>2010</td>\n",
       "      <td>3.25</td>\n",
       "      <td>6.79</td>\n",
       "      <td>58000</td>\n",
       "      <td>1</td>\n",
       "      <td>0</td>\n",
       "      <td>0</td>\n",
       "      <td>1</td>\n",
       "    </tr>\n",
       "    <tr>\n",
       "      <th>111</th>\n",
       "      <td>2016</td>\n",
       "      <td>1.15</td>\n",
       "      <td>1.50</td>\n",
       "      <td>8700</td>\n",
       "      <td>0</td>\n",
       "      <td>1</td>\n",
       "      <td>0</td>\n",
       "      <td>0</td>\n",
       "    </tr>\n",
       "    <tr>\n",
       "      <th>125</th>\n",
       "      <td>2009</td>\n",
       "      <td>0.90</td>\n",
       "      <td>1.75</td>\n",
       "      <td>40000</td>\n",
       "      <td>0</td>\n",
       "      <td>1</td>\n",
       "      <td>0</td>\n",
       "      <td>0</td>\n",
       "    </tr>\n",
       "    <tr>\n",
       "      <th>46</th>\n",
       "      <td>2013</td>\n",
       "      <td>2.65</td>\n",
       "      <td>4.89</td>\n",
       "      <td>64532</td>\n",
       "      <td>0</td>\n",
       "      <td>0</td>\n",
       "      <td>0</td>\n",
       "      <td>0</td>\n",
       "    </tr>\n",
       "  </tbody>\n",
       "</table>\n",
       "</div>"
      ],
      "text/plain": [
       "     Year  Selling_Price  Present_Price  Kms_Driven  Fuel_Type  Seller_Type  \\\n",
       "199  2007           0.12           0.58       53000          0            1   \n",
       "201  2010           3.25           6.79       58000          1            0   \n",
       "111  2016           1.15           1.50        8700          0            1   \n",
       "125  2009           0.90           1.75       40000          0            1   \n",
       "46   2013           2.65           4.89       64532          0            0   \n",
       "\n",
       "     Transmission  Owner  \n",
       "199             0      0  \n",
       "201             0      1  \n",
       "111             0      0  \n",
       "125             0      0  \n",
       "46              0      0  "
      ]
     },
     "execution_count": 376,
     "metadata": {},
     "output_type": "execute_result"
    }
   ],
   "source": [
    "df_test.head()"
   ]
  },
  {
   "cell_type": "code",
   "execution_count": 377,
   "id": "e0ed4263",
   "metadata": {},
   "outputs": [],
   "source": [
    "from sklearn.preprocessing import MinMaxScaler\n",
    "scaler = MinMaxScaler()"
   ]
  },
  {
   "cell_type": "code",
   "execution_count": 378,
   "id": "137ce40d",
   "metadata": {},
   "outputs": [],
   "source": [
    "df_train['Selling_Price'] = scaler.fit_transform(df_train[['Selling_Price']])\n",
    "df_test['Selling_Price'] = scaler.transform(df_test[['Selling_Price']])"
   ]
  },
  {
   "cell_type": "code",
   "execution_count": 379,
   "id": "19395c50",
   "metadata": {},
   "outputs": [
    {
     "data": {
      "text/plain": [
       "count    210.000000\n",
       "mean       0.128269\n",
       "std        0.145568\n",
       "min        0.000000\n",
       "25%        0.019015\n",
       "50%        0.105913\n",
       "75%        0.162959\n",
       "max        1.000000\n",
       "Name: Selling_Price, dtype: float64"
      ]
     },
     "execution_count": 379,
     "metadata": {},
     "output_type": "execute_result"
    }
   ],
   "source": [
    "df_train.Selling_Price.describe()"
   ]
  },
  {
   "cell_type": "code",
   "execution_count": 380,
   "id": "f42c78ce",
   "metadata": {},
   "outputs": [],
   "source": [
    "y_train = df_train.pop(\"Selling_Price\")\n",
    "X_train = df_train\n",
    "\n",
    "y_test = df_test.pop(\"Selling_Price\")\n",
    "X_test = df_test"
   ]
  },
  {
   "cell_type": "markdown",
   "id": "a9b7f1a1",
   "metadata": {},
   "source": [
    "#### Fit the Decision Tree model"
   ]
  },
  {
   "cell_type": "code",
   "execution_count": 381,
   "id": "761ccb1e",
   "metadata": {},
   "outputs": [
    {
     "data": {
      "text/plain": [
       "DecisionTreeRegressor(max_depth=4, min_samples_leaf=10, random_state=42)"
      ]
     },
     "execution_count": 381,
     "metadata": {},
     "output_type": "execute_result"
    }
   ],
   "source": [
    "dt.fit(X_train, y_train)"
   ]
  },
  {
   "cell_type": "code",
   "execution_count": 382,
   "id": "1f4ab7ad",
   "metadata": {},
   "outputs": [],
   "source": [
    "y_train_pred = dt.predict(X_train)"
   ]
  },
  {
   "cell_type": "code",
   "execution_count": 383,
   "id": "0b471b92",
   "metadata": {},
   "outputs": [],
   "source": [
    "error_score3 = metrics.r2_score(y_train, y_train_pred)"
   ]
  },
  {
   "cell_type": "code",
   "execution_count": 384,
   "id": "5beae6d5",
   "metadata": {},
   "outputs": [
    {
     "data": {
      "text/plain": [
       "0.8897247387664534"
      ]
     },
     "execution_count": 384,
     "metadata": {},
     "output_type": "execute_result"
    }
   ],
   "source": [
    "error_score3 "
   ]
  },
  {
   "cell_type": "code",
   "execution_count": 385,
   "id": "f032297d",
   "metadata": {},
   "outputs": [],
   "source": [
    "y_test_pred = dt.predict(X_test)"
   ]
  },
  {
   "cell_type": "code",
   "execution_count": 386,
   "id": "44f4d1bd",
   "metadata": {},
   "outputs": [],
   "source": [
    "error_score4 = metrics.r2_score(y_test, y_test_pred)"
   ]
  },
  {
   "cell_type": "code",
   "execution_count": 387,
   "id": "625bbb6e",
   "metadata": {},
   "outputs": [
    {
     "data": {
      "text/plain": [
       "0.7026880137879858"
      ]
     },
     "execution_count": 387,
     "metadata": {},
     "output_type": "execute_result"
    }
   ],
   "source": [
    "error_score4"
   ]
  },
  {
   "cell_type": "code",
   "execution_count": 388,
   "id": "216227f6",
   "metadata": {},
   "outputs": [
    {
     "name": "stdout",
     "output_type": "stream",
     "text": [
      "[7.04992171]\n",
      "The price for ertiga is  7.049921707899216\n"
     ]
    }
   ],
   "source": [
    "#ertiga,2016,7.75,10.79,43000,Diesel,Dealer,Manual,0\n",
    "input_data2 = (2016,10.79,43000,1,0,0,0)\n",
    "# here it in tupple data type, so change it to numpy array\n",
    "# changing input_data to a numpy array, becoz it is easy to do some processing on arrays rather than tupple..\n",
    "data_numpy_array = np.asarray(input_data2)\n",
    "\n",
    "# reshape the array,if we dont mention reshape here, the model doesnt know that we are predicting one data point particularly\n",
    "data_reshaped3 = input_data_as_numpy_array.reshape(1,-1)\n",
    "#prediction will give me the selling price for ertiga..\n",
    "prediction4 =  lasso_reg.predict(data_reshaped3)\n",
    "print(prediction4)\n",
    "\n",
    "print('The price for ertiga is ', prediction4[0])"
   ]
  }
 ],
 "metadata": {
  "kernelspec": {
   "display_name": "Python 3",
   "language": "python",
   "name": "python3"
  },
  "language_info": {
   "codemirror_mode": {
    "name": "ipython",
    "version": 3
   },
   "file_extension": ".py",
   "mimetype": "text/x-python",
   "name": "python",
   "nbconvert_exporter": "python",
   "pygments_lexer": "ipython3",
   "version": "3.8.8"
  }
 },
 "nbformat": 4,
 "nbformat_minor": 5
}
